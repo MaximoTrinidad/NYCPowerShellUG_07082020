{
 "cells": [
  {
   "cell_type": "markdown",
   "metadata": {},
   "source": [
    "# Working with Docker Containers samples\n",
    "\n",
    "1. Pull (download) Docker Container image.\n",
    "2. Customizing Docker image.\n",
    "3. Creating New Docker Container image.\n",
    "4. Bonus section.\n",
    "5. Basic Docker Compose Samples included.\n",
    "\n",
    "# Sample Files: \n",
    "1. PowerShell Script: \n",
    "    * WSL-PowerShellWorkingWithSQLContainers_070802020.ps1\n",
    "    * WSL-PowerShellBonus_QueryingSQLServerInContainer.ps1\n",
    "    * WSL-WorkWithDockerCompose.ps1\n",
    "2. PowerShell Studio GUI app: MyDockerHelper.\n",
    "3. Docker Compose folder: \n",
    "    * \"DockerCompose\" - Create single running instance.\n",
    "    * \"DockerComposeScaling\" - Scale to 4 running instances.\n",
    "\n",
    "# Sample code for mounting a network drive"
   ]
  },
  {
   "cell_type": "raw",
   "metadata": {},
   "source": [
    "## - Mount existing mapped drive in WSL 2: (Will not work Jupyter)\n",
    "\n",
    "# Create folder for mapped drive:\n",
    "#-> mkdir /mnt/z\n",
    "\n",
    "sudo mount -t drvfs Z: /mnt/z \n"
   ]
  },
  {
   "cell_type": "code",
   "execution_count": 5,
   "metadata": {},
   "outputs": [
    {
     "name": "stdout",
     "output_type": "stream",
     "text": [
      "\n",
      "\n",
      "    Directory: /mnt\n",
      "\n",
      "Mode                 LastWriteTime         Length Name\n",
      "----                 -------------         ------ ----\n",
      "d----          07/06/2020    10:14                c\n",
      "d----          07/07/2020    18:03                wsl\n",
      "d-r--          07/07/2020    23:23                z\n",
      "\n"
     ]
    }
   ],
   "source": [
    "## - Display mnt folders:\n",
    "dir /mnt"
   ]
  },
  {
   "cell_type": "code",
   "execution_count": 5,
   "metadata": {},
   "outputs": [
    {
     "name": "stdout",
     "output_type": "stream",
     "text": [
      "\n",
      "\n",
      "    Directory: /mnt/z/NYCPowerShellUG_07082020\n",
      "\n",
      "Mode                 LastWriteTime         Length Name\n",
      "----                 -------------         ------ ----\n",
      "d----          07/08/2020    07:46                DockerCompose\n",
      "d----          07/08/2020    07:46                DockerComposeScaling\n",
      "d----          07/08/2020    09:12                JupyterNotebook\n",
      "d----          07/07/2020    21:35                MyDockerHelper\n",
      "-----          07/08/2020    10:10           3884 WSL-PowerShellBonus_QueryingSQLServerInContainer.\n",
      "                                                  ps1\n",
      "-----          07/08/2020    10:12           7615 WSL-PowerShellWorkingWithSQLContainers_070802020.\n",
      "                                                  ps1\n",
      "\n"
     ]
    }
   ],
   "source": [
    "## - Display folder from mapped network drive:\n",
    "dir /mnt/z/NYCPowerShellUG_07082020"
   ]
  },
  {
   "cell_type": "code",
   "execution_count": 10,
   "metadata": {},
   "outputs": [
    {
     "name": "stdout",
     "output_type": "stream",
     "text": [
      "sudo: no tty present and no askpass program specified\n"
     ]
    }
   ],
   "source": [
    "## - Unmount/Disconnect network drive: (Won't work in Jupyter)\n",
    "sudo umount /mnt/z username=maxt, password=wildo1\n"
   ]
  },
  {
   "cell_type": "markdown",
   "metadata": {},
   "source": [
    "# Sample Docker Compose Yaml files"
   ]
  },
  {
   "cell_type": "code",
   "execution_count": 16,
   "metadata": {},
   "outputs": [
    {
     "name": "stdout",
     "output_type": "stream",
     "text": [
      "version: '3.8'\n",
      "\n",
      "services:\n",
      "\n",
      "  ms-sql:\n",
      "   image: mcr.microsoft.com/mssql/server:2019-latest\n",
      "   container_name: sql2k19_01_qa01\n",
      "   environment:\n",
      "    - ACCEPT_EULA=Y\n",
      "    - SA_PASSWORD=qaSqlPwd01A\n",
      "    - TZ=America/New_York\n",
      "    - MSSQL_PID=Developer\n",
      "   ports:\n",
      "    - \"1435:1435\"\n"
     ]
    }
   ],
   "source": [
    "## - Display content of DockerCompose yaml file:\n",
    "cat /mnt/z/NYCPowerShellUG_07082020/DockerCompose/docker-compose.yml\n"
   ]
  },
  {
   "cell_type": "code",
   "execution_count": 17,
   "metadata": {},
   "outputs": [
    {
     "name": "stdout",
     "output_type": "stream",
     "text": [
      "version: '3.8'\n",
      "\n",
      "services:\n",
      "\n",
      "  ms-sql:\n",
      "   image: mcr.microsoft.com/mssql/server:2019-latest\n",
      "   environment:\n",
      "    - ACCEPT_EULA=Y\n",
      "    - SA_PASSWORD=qaSqlPwd01A\n",
      "    - TZ=America/New_York\n",
      "    - MSSQL_PID=Developer\n",
      "\n"
     ]
    }
   ],
   "source": [
    "## - Display content of DockerCompose yaml file:\n",
    "cat /mnt/z/NYCPowerShellUG_07082020/DockerComposeScaling/docker-compose.yml\n"
   ]
  }
 ],
 "metadata": {
  "kernelspec": {
   "display_name": ".NET (PowerShell)",
   "language": "PowerShell",
   "name": ".net-powershell"
  },
  "language_info": {
   "file_extension": ".ps1",
   "mimetype": "text/x-powershell",
   "name": "PowerShell",
   "pygments_lexer": "powershell",
   "version": "7.0"
  }
 },
 "nbformat": 4,
 "nbformat_minor": 4
}
